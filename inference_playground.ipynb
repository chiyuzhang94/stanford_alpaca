{
 "cells": [
  {
   "cell_type": "code",
   "execution_count": null,
   "metadata": {},
   "outputs": [],
   "source": [
    "import torch\n",
    "import torch.nn.functional as F\n",
    "import json\n",
    "from transformers import AutoTokenizer, AutoModelForCausalLM\n",
    "from transformers import pipeline\n"
   ]
  },
  {
   "cell_type": "code",
   "execution_count": null,
   "metadata": {},
   "outputs": [],
   "source": [
    "import os\n",
    "os.environ['TRANSFORMERS_CACHE'] = './cache'"
   ]
  },
  {
   "cell_type": "code",
   "execution_count": null,
   "metadata": {},
   "outputs": [],
   "source": [
    "device = torch.device(\"cuda\" if torch.cuda.is_available() else \"cpu\")\n",
    "print(device)\n",
    "    \n",
    "params = {\n",
    "    \"temperature\":0.9,\n",
    "    \"top_p\":0.95,\n",
    "    \"top_k\":10,\n",
    "    \"do_sample\":True, \n",
    "    \"max_length\":256, \n",
    "    \"num_return_sequences\":1\n",
    "}"
   ]
  },
  {
   "cell_type": "code",
   "execution_count": null,
   "metadata": {},
   "outputs": [],
   "source": [
    "jasmine27 = pipeline(\"text-generation\", model=\"./ckpt_ar_alpaca/\", return_full_text=False, device=0)\n"
   ]
  },
  {
   "cell_type": "markdown",
   "metadata": {},
   "source": [
    "### without input"
   ]
  },
  {
   "cell_type": "code",
   "execution_count": null,
   "metadata": {},
   "outputs": [],
   "source": [
    "while True:\n",
    "    prompt = input(\"Enter a prompt: \")\n",
    "\n",
    "    input_sequence = \"فيما يلي أمر/ توجيه يصف مهمة مرتبطة بمدخل لتزويد النص بسياق اضافي.  يرجى صياغة ردود.\" + \"مناسبة  لتحقق الطلب بطريقة مناسبة و دقيقة.\\n\\n\" + f\"### الأمر/ التوجيه:\\n{prompt}\\n\\n### الرد:\"\n",
    "\n",
    "    print(input_sequence)\n",
    "\n",
    "    jasmine27_base_output = jasmine27(input_sequence, **params)[0]['generated_text']\n",
    "    print(jasmine27_base_output)\n",
    "    \n",
    "    print(\"---\"*100)\n"
   ]
  },
  {
   "cell_type": "markdown",
   "metadata": {},
   "source": [
    "### with input"
   ]
  },
  {
   "cell_type": "code",
   "execution_count": null,
   "metadata": {},
   "outputs": [],
   "source": [
    "while True:\n",
    "    prompt = input(\"Enter a prompt: \")\n",
    "    input__ = input(\"Enter a input: \")\n",
    "    input_sequence = \"فيما يلي أمر/ توجيه يصف مهمة مرتبطة بمدخل لتزويد النص بسياق اضافي.  يرجى صياغة ردود.\" + \"مناسبة  لتحقق الطلب بطريقة مناسبة و دقيقة.\\n\\n\" + f\"### الأمر/ التوجيه:\\n{prompt}\\n\\n### المدخل:\\n{input__}\\n\\n### الرد:\"\n",
    "\n",
    "    print(input_sequence)\n",
    "\n",
    "    jasmine27_base_output = jasmine27(input_sequence, **params)[0]['generated_text']\n",
    "    print(jasmine27_base_output)\n",
    "    \n",
    "    print(\"---\"*100)"
   ]
  },
  {
   "cell_type": "code",
   "execution_count": null,
   "metadata": {},
   "outputs": [],
   "source": []
  }
 ],
 "metadata": {
  "kernelspec": {
   "display_name": "Python 3",
   "language": "python",
   "name": "python3"
  },
  "language_info": {
   "codemirror_mode": {
    "name": "ipython",
    "version": 3
   },
   "file_extension": ".py",
   "mimetype": "text/x-python",
   "name": "python",
   "nbconvert_exporter": "python",
   "pygments_lexer": "ipython3",
   "version": "3.7.3"
  }
 },
 "nbformat": 4,
 "nbformat_minor": 5
}
